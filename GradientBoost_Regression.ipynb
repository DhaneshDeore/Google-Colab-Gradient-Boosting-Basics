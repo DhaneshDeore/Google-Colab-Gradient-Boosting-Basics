{
  "nbformat": 4,
  "nbformat_minor": 0,
  "metadata": {
    "colab": {
      "name": "GradientBoost Regression.ipynb",
      "provenance": [],
      "collapsed_sections": []
    },
    "kernelspec": {
      "name": "python3",
      "display_name": "Python 3"
    },
    "language_info": {
      "name": "python"
    }
  },
  "cells": [
    {
      "cell_type": "code",
      "execution_count": 2,
      "metadata": {
        "id": "WvTs9OH12Y7M"
      },
      "outputs": [],
      "source": [
        "import numpy as np\n",
        "import pandas as pd \n",
        "from sklearn.ensemble import GradientBoostingRegressor\n",
        "from sklearn.model_selection import train_test_split \n",
        "from sklearn.metrics import mean_squared_error,mean_absolute_error,r2_score\n",
        "from sklearn.datasets import load_boston\n",
        "import warnings \n",
        "warnings.filterwarnings('ignore')"
      ]
    },
    {
      "cell_type": "code",
      "source": [
        "boston=load_boston()\n",
        "X=pd.DataFrame(boston.data, columns=boston.feature_names) # independent variables\n",
        "y=pd.Series(boston.target)  # dependent variables"
      ],
      "metadata": {
        "id": "dpMmMarT3zb3"
      },
      "execution_count": 5,
      "outputs": []
    },
    {
      "cell_type": "code",
      "source": [
        "X"
      ],
      "metadata": {
        "colab": {
          "base_uri": "https://localhost:8080/",
          "height": 424
        },
        "id": "8N21zqBS4jF9",
        "outputId": "6ae56742-15fc-4d7f-a328-63753924eac7"
      },
      "execution_count": 6,
      "outputs": [
        {
          "output_type": "execute_result",
          "data": {
            "text/plain": [
              "        CRIM    ZN  INDUS  CHAS    NOX     RM   AGE     DIS  RAD    TAX  \\\n",
              "0    0.00632  18.0   2.31   0.0  0.538  6.575  65.2  4.0900  1.0  296.0   \n",
              "1    0.02731   0.0   7.07   0.0  0.469  6.421  78.9  4.9671  2.0  242.0   \n",
              "2    0.02729   0.0   7.07   0.0  0.469  7.185  61.1  4.9671  2.0  242.0   \n",
              "3    0.03237   0.0   2.18   0.0  0.458  6.998  45.8  6.0622  3.0  222.0   \n",
              "4    0.06905   0.0   2.18   0.0  0.458  7.147  54.2  6.0622  3.0  222.0   \n",
              "..       ...   ...    ...   ...    ...    ...   ...     ...  ...    ...   \n",
              "501  0.06263   0.0  11.93   0.0  0.573  6.593  69.1  2.4786  1.0  273.0   \n",
              "502  0.04527   0.0  11.93   0.0  0.573  6.120  76.7  2.2875  1.0  273.0   \n",
              "503  0.06076   0.0  11.93   0.0  0.573  6.976  91.0  2.1675  1.0  273.0   \n",
              "504  0.10959   0.0  11.93   0.0  0.573  6.794  89.3  2.3889  1.0  273.0   \n",
              "505  0.04741   0.0  11.93   0.0  0.573  6.030  80.8  2.5050  1.0  273.0   \n",
              "\n",
              "     PTRATIO       B  LSTAT  \n",
              "0       15.3  396.90   4.98  \n",
              "1       17.8  396.90   9.14  \n",
              "2       17.8  392.83   4.03  \n",
              "3       18.7  394.63   2.94  \n",
              "4       18.7  396.90   5.33  \n",
              "..       ...     ...    ...  \n",
              "501     21.0  391.99   9.67  \n",
              "502     21.0  396.90   9.08  \n",
              "503     21.0  396.90   5.64  \n",
              "504     21.0  393.45   6.48  \n",
              "505     21.0  396.90   7.88  \n",
              "\n",
              "[506 rows x 13 columns]"
            ],
            "text/html": [
              "\n",
              "  <div id=\"df-e4af72cc-f16c-4933-9dea-553e58b65e5b\">\n",
              "    <div class=\"colab-df-container\">\n",
              "      <div>\n",
              "<style scoped>\n",
              "    .dataframe tbody tr th:only-of-type {\n",
              "        vertical-align: middle;\n",
              "    }\n",
              "\n",
              "    .dataframe tbody tr th {\n",
              "        vertical-align: top;\n",
              "    }\n",
              "\n",
              "    .dataframe thead th {\n",
              "        text-align: right;\n",
              "    }\n",
              "</style>\n",
              "<table border=\"1\" class=\"dataframe\">\n",
              "  <thead>\n",
              "    <tr style=\"text-align: right;\">\n",
              "      <th></th>\n",
              "      <th>CRIM</th>\n",
              "      <th>ZN</th>\n",
              "      <th>INDUS</th>\n",
              "      <th>CHAS</th>\n",
              "      <th>NOX</th>\n",
              "      <th>RM</th>\n",
              "      <th>AGE</th>\n",
              "      <th>DIS</th>\n",
              "      <th>RAD</th>\n",
              "      <th>TAX</th>\n",
              "      <th>PTRATIO</th>\n",
              "      <th>B</th>\n",
              "      <th>LSTAT</th>\n",
              "    </tr>\n",
              "  </thead>\n",
              "  <tbody>\n",
              "    <tr>\n",
              "      <th>0</th>\n",
              "      <td>0.00632</td>\n",
              "      <td>18.0</td>\n",
              "      <td>2.31</td>\n",
              "      <td>0.0</td>\n",
              "      <td>0.538</td>\n",
              "      <td>6.575</td>\n",
              "      <td>65.2</td>\n",
              "      <td>4.0900</td>\n",
              "      <td>1.0</td>\n",
              "      <td>296.0</td>\n",
              "      <td>15.3</td>\n",
              "      <td>396.90</td>\n",
              "      <td>4.98</td>\n",
              "    </tr>\n",
              "    <tr>\n",
              "      <th>1</th>\n",
              "      <td>0.02731</td>\n",
              "      <td>0.0</td>\n",
              "      <td>7.07</td>\n",
              "      <td>0.0</td>\n",
              "      <td>0.469</td>\n",
              "      <td>6.421</td>\n",
              "      <td>78.9</td>\n",
              "      <td>4.9671</td>\n",
              "      <td>2.0</td>\n",
              "      <td>242.0</td>\n",
              "      <td>17.8</td>\n",
              "      <td>396.90</td>\n",
              "      <td>9.14</td>\n",
              "    </tr>\n",
              "    <tr>\n",
              "      <th>2</th>\n",
              "      <td>0.02729</td>\n",
              "      <td>0.0</td>\n",
              "      <td>7.07</td>\n",
              "      <td>0.0</td>\n",
              "      <td>0.469</td>\n",
              "      <td>7.185</td>\n",
              "      <td>61.1</td>\n",
              "      <td>4.9671</td>\n",
              "      <td>2.0</td>\n",
              "      <td>242.0</td>\n",
              "      <td>17.8</td>\n",
              "      <td>392.83</td>\n",
              "      <td>4.03</td>\n",
              "    </tr>\n",
              "    <tr>\n",
              "      <th>3</th>\n",
              "      <td>0.03237</td>\n",
              "      <td>0.0</td>\n",
              "      <td>2.18</td>\n",
              "      <td>0.0</td>\n",
              "      <td>0.458</td>\n",
              "      <td>6.998</td>\n",
              "      <td>45.8</td>\n",
              "      <td>6.0622</td>\n",
              "      <td>3.0</td>\n",
              "      <td>222.0</td>\n",
              "      <td>18.7</td>\n",
              "      <td>394.63</td>\n",
              "      <td>2.94</td>\n",
              "    </tr>\n",
              "    <tr>\n",
              "      <th>4</th>\n",
              "      <td>0.06905</td>\n",
              "      <td>0.0</td>\n",
              "      <td>2.18</td>\n",
              "      <td>0.0</td>\n",
              "      <td>0.458</td>\n",
              "      <td>7.147</td>\n",
              "      <td>54.2</td>\n",
              "      <td>6.0622</td>\n",
              "      <td>3.0</td>\n",
              "      <td>222.0</td>\n",
              "      <td>18.7</td>\n",
              "      <td>396.90</td>\n",
              "      <td>5.33</td>\n",
              "    </tr>\n",
              "    <tr>\n",
              "      <th>...</th>\n",
              "      <td>...</td>\n",
              "      <td>...</td>\n",
              "      <td>...</td>\n",
              "      <td>...</td>\n",
              "      <td>...</td>\n",
              "      <td>...</td>\n",
              "      <td>...</td>\n",
              "      <td>...</td>\n",
              "      <td>...</td>\n",
              "      <td>...</td>\n",
              "      <td>...</td>\n",
              "      <td>...</td>\n",
              "      <td>...</td>\n",
              "    </tr>\n",
              "    <tr>\n",
              "      <th>501</th>\n",
              "      <td>0.06263</td>\n",
              "      <td>0.0</td>\n",
              "      <td>11.93</td>\n",
              "      <td>0.0</td>\n",
              "      <td>0.573</td>\n",
              "      <td>6.593</td>\n",
              "      <td>69.1</td>\n",
              "      <td>2.4786</td>\n",
              "      <td>1.0</td>\n",
              "      <td>273.0</td>\n",
              "      <td>21.0</td>\n",
              "      <td>391.99</td>\n",
              "      <td>9.67</td>\n",
              "    </tr>\n",
              "    <tr>\n",
              "      <th>502</th>\n",
              "      <td>0.04527</td>\n",
              "      <td>0.0</td>\n",
              "      <td>11.93</td>\n",
              "      <td>0.0</td>\n",
              "      <td>0.573</td>\n",
              "      <td>6.120</td>\n",
              "      <td>76.7</td>\n",
              "      <td>2.2875</td>\n",
              "      <td>1.0</td>\n",
              "      <td>273.0</td>\n",
              "      <td>21.0</td>\n",
              "      <td>396.90</td>\n",
              "      <td>9.08</td>\n",
              "    </tr>\n",
              "    <tr>\n",
              "      <th>503</th>\n",
              "      <td>0.06076</td>\n",
              "      <td>0.0</td>\n",
              "      <td>11.93</td>\n",
              "      <td>0.0</td>\n",
              "      <td>0.573</td>\n",
              "      <td>6.976</td>\n",
              "      <td>91.0</td>\n",
              "      <td>2.1675</td>\n",
              "      <td>1.0</td>\n",
              "      <td>273.0</td>\n",
              "      <td>21.0</td>\n",
              "      <td>396.90</td>\n",
              "      <td>5.64</td>\n",
              "    </tr>\n",
              "    <tr>\n",
              "      <th>504</th>\n",
              "      <td>0.10959</td>\n",
              "      <td>0.0</td>\n",
              "      <td>11.93</td>\n",
              "      <td>0.0</td>\n",
              "      <td>0.573</td>\n",
              "      <td>6.794</td>\n",
              "      <td>89.3</td>\n",
              "      <td>2.3889</td>\n",
              "      <td>1.0</td>\n",
              "      <td>273.0</td>\n",
              "      <td>21.0</td>\n",
              "      <td>393.45</td>\n",
              "      <td>6.48</td>\n",
              "    </tr>\n",
              "    <tr>\n",
              "      <th>505</th>\n",
              "      <td>0.04741</td>\n",
              "      <td>0.0</td>\n",
              "      <td>11.93</td>\n",
              "      <td>0.0</td>\n",
              "      <td>0.573</td>\n",
              "      <td>6.030</td>\n",
              "      <td>80.8</td>\n",
              "      <td>2.5050</td>\n",
              "      <td>1.0</td>\n",
              "      <td>273.0</td>\n",
              "      <td>21.0</td>\n",
              "      <td>396.90</td>\n",
              "      <td>7.88</td>\n",
              "    </tr>\n",
              "  </tbody>\n",
              "</table>\n",
              "<p>506 rows × 13 columns</p>\n",
              "</div>\n",
              "      <button class=\"colab-df-convert\" onclick=\"convertToInteractive('df-e4af72cc-f16c-4933-9dea-553e58b65e5b')\"\n",
              "              title=\"Convert this dataframe to an interactive table.\"\n",
              "              style=\"display:none;\">\n",
              "        \n",
              "  <svg xmlns=\"http://www.w3.org/2000/svg\" height=\"24px\"viewBox=\"0 0 24 24\"\n",
              "       width=\"24px\">\n",
              "    <path d=\"M0 0h24v24H0V0z\" fill=\"none\"/>\n",
              "    <path d=\"M18.56 5.44l.94 2.06.94-2.06 2.06-.94-2.06-.94-.94-2.06-.94 2.06-2.06.94zm-11 1L8.5 8.5l.94-2.06 2.06-.94-2.06-.94L8.5 2.5l-.94 2.06-2.06.94zm10 10l.94 2.06.94-2.06 2.06-.94-2.06-.94-.94-2.06-.94 2.06-2.06.94z\"/><path d=\"M17.41 7.96l-1.37-1.37c-.4-.4-.92-.59-1.43-.59-.52 0-1.04.2-1.43.59L10.3 9.45l-7.72 7.72c-.78.78-.78 2.05 0 2.83L4 21.41c.39.39.9.59 1.41.59.51 0 1.02-.2 1.41-.59l7.78-7.78 2.81-2.81c.8-.78.8-2.07 0-2.86zM5.41 20L4 18.59l7.72-7.72 1.47 1.35L5.41 20z\"/>\n",
              "  </svg>\n",
              "      </button>\n",
              "      \n",
              "  <style>\n",
              "    .colab-df-container {\n",
              "      display:flex;\n",
              "      flex-wrap:wrap;\n",
              "      gap: 12px;\n",
              "    }\n",
              "\n",
              "    .colab-df-convert {\n",
              "      background-color: #E8F0FE;\n",
              "      border: none;\n",
              "      border-radius: 50%;\n",
              "      cursor: pointer;\n",
              "      display: none;\n",
              "      fill: #1967D2;\n",
              "      height: 32px;\n",
              "      padding: 0 0 0 0;\n",
              "      width: 32px;\n",
              "    }\n",
              "\n",
              "    .colab-df-convert:hover {\n",
              "      background-color: #E2EBFA;\n",
              "      box-shadow: 0px 1px 2px rgba(60, 64, 67, 0.3), 0px 1px 3px 1px rgba(60, 64, 67, 0.15);\n",
              "      fill: #174EA6;\n",
              "    }\n",
              "\n",
              "    [theme=dark] .colab-df-convert {\n",
              "      background-color: #3B4455;\n",
              "      fill: #D2E3FC;\n",
              "    }\n",
              "\n",
              "    [theme=dark] .colab-df-convert:hover {\n",
              "      background-color: #434B5C;\n",
              "      box-shadow: 0px 1px 3px 1px rgba(0, 0, 0, 0.15);\n",
              "      filter: drop-shadow(0px 1px 2px rgba(0, 0, 0, 0.3));\n",
              "      fill: #FFFFFF;\n",
              "    }\n",
              "  </style>\n",
              "\n",
              "      <script>\n",
              "        const buttonEl =\n",
              "          document.querySelector('#df-e4af72cc-f16c-4933-9dea-553e58b65e5b button.colab-df-convert');\n",
              "        buttonEl.style.display =\n",
              "          google.colab.kernel.accessAllowed ? 'block' : 'none';\n",
              "\n",
              "        async function convertToInteractive(key) {\n",
              "          const element = document.querySelector('#df-e4af72cc-f16c-4933-9dea-553e58b65e5b');\n",
              "          const dataTable =\n",
              "            await google.colab.kernel.invokeFunction('convertToInteractive',\n",
              "                                                     [key], {});\n",
              "          if (!dataTable) return;\n",
              "\n",
              "          const docLinkHtml = 'Like what you see? Visit the ' +\n",
              "            '<a target=\"_blank\" href=https://colab.research.google.com/notebooks/data_table.ipynb>data table notebook</a>'\n",
              "            + ' to learn more about interactive tables.';\n",
              "          element.innerHTML = '';\n",
              "          dataTable['output_type'] = 'display_data';\n",
              "          await google.colab.output.renderOutput(dataTable, element);\n",
              "          const docLink = document.createElement('div');\n",
              "          docLink.innerHTML = docLinkHtml;\n",
              "          element.appendChild(docLink);\n",
              "        }\n",
              "      </script>\n",
              "    </div>\n",
              "  </div>\n",
              "  "
            ]
          },
          "metadata": {},
          "execution_count": 6
        }
      ]
    },
    {
      "cell_type": "code",
      "source": [
        "y"
      ],
      "metadata": {
        "colab": {
          "base_uri": "https://localhost:8080/"
        },
        "id": "8ocu4jcJ5CKU",
        "outputId": "4ed42a1a-e7cf-4ae7-b8c7-43ff1b8e6906"
      },
      "execution_count": 7,
      "outputs": [
        {
          "output_type": "execute_result",
          "data": {
            "text/plain": [
              "0      24.0\n",
              "1      21.6\n",
              "2      34.7\n",
              "3      33.4\n",
              "4      36.2\n",
              "       ... \n",
              "501    22.4\n",
              "502    20.6\n",
              "503    23.9\n",
              "504    22.0\n",
              "505    11.9\n",
              "Length: 506, dtype: float64"
            ]
          },
          "metadata": {},
          "execution_count": 7
        }
      ]
    },
    {
      "cell_type": "code",
      "source": [
        "boston.DESCR\n",
        "boston.feature_names"
      ],
      "metadata": {
        "colab": {
          "base_uri": "https://localhost:8080/"
        },
        "id": "JR7Ot_P_5Efu",
        "outputId": "e271d7cf-5572-4338-f7d4-c34f3161aed4"
      },
      "execution_count": 11,
      "outputs": [
        {
          "output_type": "execute_result",
          "data": {
            "text/plain": [
              "array(['CRIM', 'ZN', 'INDUS', 'CHAS', 'NOX', 'RM', 'AGE', 'DIS', 'RAD',\n",
              "       'TAX', 'PTRATIO', 'B', 'LSTAT'], dtype='<U7')"
            ]
          },
          "metadata": {},
          "execution_count": 11
        }
      ]
    },
    {
      "cell_type": "code",
      "source": [
        "X_train,X_test,y_train,y_test=train_test_split(X,y,test_size=0.2,random_state=1)"
      ],
      "metadata": {
        "id": "D8VyDnWX5JkE"
      },
      "execution_count": 12,
      "outputs": []
    },
    {
      "cell_type": "code",
      "source": [
        "gradientregressor=GradientBoostingRegressor(max_depth=2,n_estimators=2,learning_rate=1)\n",
        "model=gradientregressor.fit(X_train,y_train)\n",
        "model"
      ],
      "metadata": {
        "colab": {
          "base_uri": "https://localhost:8080/"
        },
        "id": "tfM2O0ly5zCE",
        "outputId": "ce134fe4-e15c-49b6-fa5a-037bb7e63f9c"
      },
      "execution_count": 14,
      "outputs": [
        {
          "output_type": "execute_result",
          "data": {
            "text/plain": [
              "GradientBoostingRegressor(learning_rate=1, max_depth=2, n_estimators=2)"
            ]
          },
          "metadata": {},
          "execution_count": 14
        }
      ]
    },
    {
      "cell_type": "code",
      "source": [
        "y_pred_test=model.predict(X_test)\n",
        "y_pred_test "
      ],
      "metadata": {
        "colab": {
          "base_uri": "https://localhost:8080/"
        },
        "id": "3kAIwTRf6V23",
        "outputId": "13ccc663-bb8d-4801-cc15-36af9af9726f"
      },
      "execution_count": 15,
      "outputs": [
        {
          "output_type": "execute_result",
          "data": {
            "text/plain": [
              "array([30.62972184, 30.62972184, 13.2454113 , 26.29807134, 19.17666583,\n",
              "       19.17666583, 26.29807134, 19.17666583, 13.2454113 , 26.29807134,\n",
              "       30.62972184, 30.62972184, 19.17666583, 19.17666583, 19.17666583,\n",
              "       31.23825784, 17.5770618 , 47.4832778 , 26.29807134, 13.2454113 ,\n",
              "       19.17666583, 13.2454113 , 26.29807134, 26.29807134, 26.29807134,\n",
              "       13.2454113 , 13.2454113 , 19.17666583, 47.4832778 , 13.2454113 ,\n",
              "       26.29807134, 13.2454113 , 47.4832778 , 13.2454113 , 26.29807134,\n",
              "       19.17666583, 13.2454113 , 30.62972184, 25.30700331, 19.17666583,\n",
              "       26.29807134, 26.29807134, 26.29807134, 13.2454113 , 13.2454113 ,\n",
              "       -8.00621601, 47.4832778 , 13.2454113 , 19.17666583, 19.17666583,\n",
              "       23.50831633, 19.17666583, 26.29807134, 19.17666583, 13.2454113 ,\n",
              "       26.29807134, 13.2454113 , 26.29807134, 19.17666583, 47.4832778 ,\n",
              "       19.17666583, 26.29807134, 13.2454113 , 13.2454113 , 13.2454113 ,\n",
              "       30.62972184, 47.4832778 , 26.29807134, 19.17666583, 19.17666583,\n",
              "       26.29807134, 13.2454113 , 19.17666583, 23.50831633, 19.17666583,\n",
              "       19.17666583, 30.62972184, 26.29807134, 26.29807134, 30.62972184,\n",
              "       19.17666583, 19.17666583, 30.62972184, 13.2454113 , 26.29807134,\n",
              "       26.29807134, 13.2454113 , 26.29807134, 19.17666583, 13.2454113 ,\n",
              "       30.62972184, 47.4832778 , 13.2454113 , 19.17666583, 19.17666583,\n",
              "       19.17666583, 26.29807134, 26.29807134, 47.4832778 , 19.17666583,\n",
              "       19.17666583, 13.2454113 ])"
            ]
          },
          "metadata": {},
          "execution_count": 15
        }
      ]
    },
    {
      "cell_type": "code",
      "source": [
        "y_pred_train=model.predict(X_train)\n",
        "y_pred_train"
      ],
      "metadata": {
        "colab": {
          "base_uri": "https://localhost:8080/"
        },
        "id": "HK0o3mcS6nFC",
        "outputId": "937577b4-dfd5-48a7-8a6a-5a97c423a0a3"
      },
      "execution_count": 24,
      "outputs": [
        {
          "output_type": "execute_result",
          "data": {
            "text/plain": [
              "array([26.29807134, 26.29807134, 13.2454113 , 19.17666583, 13.2454113 ,\n",
              "       26.29807134, 19.17666583, 30.62972184, 47.4832778 , 26.29807134,\n",
              "       13.2454113 , 30.62972184, 30.62972184, 30.62972184, 19.17666583,\n",
              "       19.17666583, 30.62972184, 47.4832778 , 19.17666583, 17.5770618 ,\n",
              "       30.62972184, 19.17666583, 26.29807134, 19.17666583, 26.29807134,\n",
              "       26.29807134, 19.17666583, 30.62972184, 19.17666583, 19.17666583,\n",
              "       26.29807134, 13.2454113 , 26.29807134, 30.62972184, 25.30700331,\n",
              "       13.2454113 , 47.4832778 , 17.5770618 , 26.29807134, 13.2454113 ,\n",
              "       13.2454113 , 26.29807134, 30.62972184, 26.29807134, 26.29807134,\n",
              "       13.2454113 , 26.29807134, 13.2454113 , 30.62972184, 13.2454113 ,\n",
              "       26.29807134, 19.17666583, 17.5770618 , 26.29807134, 26.29807134,\n",
              "       26.29807134, 19.17666583, 26.29807134, 47.4832778 , 21.9       ,\n",
              "       30.62972184, 19.17666583, 19.17666583, 19.17666583, 26.29807134,\n",
              "       13.2454113 , 13.2454113 , 26.29807134, 19.17666583, 13.2454113 ,\n",
              "       13.2454113 , 30.62972184, 19.17666583, 26.29807134, 30.62972184,\n",
              "       19.17666583, 47.4832778 , 26.29807134, 13.2454113 , 26.29807134,\n",
              "       17.5770618 , 30.62972184, 13.2454113 , 19.17666583, 19.17666583,\n",
              "       47.4832778 , 26.29807134, 19.17666583, 19.17666583, 13.2454113 ,\n",
              "       19.17666583, 23.50831633, 26.29807134, 19.17666583, 30.62972184,\n",
              "       26.29807134, 47.4832778 , 38.35966335, 13.2454113 , 13.2454113 ,\n",
              "       26.29807134, 13.2454113 , 19.17666583, 30.62972184, 30.62972184,\n",
              "       26.29807134, 19.17666583, 13.2454113 , 26.29807134, 19.17666583,\n",
              "       30.62972184, 19.17666583, 19.17666583, 26.29807134, 13.2454113 ,\n",
              "       13.2454113 , 23.50831633, 26.29807134, 19.17666583, 13.2454113 ,\n",
              "       13.2454113 , 19.17666583, 26.29807134, 30.62972184, 26.29807134,\n",
              "       13.2454113 , 13.2454113 , 30.62972184, 17.5770618 , 13.2454113 ,\n",
              "       30.62972184, 19.17666583, 13.2454113 , 26.29807134, 19.17666583,\n",
              "       47.4832778 , 47.4832778 , 19.17666583, 19.17666583, 13.2454113 ,\n",
              "       19.17666583, 47.4832778 , 19.17666583, 30.62972184, 19.17666583,\n",
              "       19.17666583, 26.29807134, 13.2454113 , 13.2454113 , 13.2454113 ,\n",
              "       30.62972184, 19.17666583, 13.2454113 , 30.62972184, 13.2454113 ,\n",
              "       19.17666583, 26.29807134, 30.62972184, 19.17666583, 26.29807134,\n",
              "       13.2454113 , 19.17666583, 26.29807134, 17.5770618 , 47.4832778 ,\n",
              "       30.62972184, 13.2454113 , 26.29807134, 30.62972184, 13.2454113 ,\n",
              "       30.62972184, 19.17666583, 26.29807134, 26.29807134, 26.29807134,\n",
              "       26.29807134, 19.17666583, 13.2454113 , 13.2454113 , 13.2454113 ,\n",
              "       19.17666583, 19.17666583, 26.29807134, 13.2454113 , 26.29807134,\n",
              "       13.2454113 , 13.2454113 , 30.62972184, 13.2454113 , 17.5770618 ,\n",
              "       23.50831633, 19.17666583, 26.29807134, 25.30700331, 30.62972184,\n",
              "       19.17666583, 30.62972184, 13.2454113 , 13.2454113 , 13.2454113 ,\n",
              "       19.17666583, 13.2454113 , 26.29807134, 30.62972184, 13.2454113 ,\n",
              "       19.17666583, 30.62972184, 13.2454113 , 19.17666583, 30.62972184,\n",
              "       26.29807134, 19.17666583, 17.5770618 , 26.29807134, 19.17666583,\n",
              "       26.29807134, 19.17666583, 30.62972184, 19.17666583, 13.2454113 ,\n",
              "       19.17666583, 19.17666583, 13.2454113 , 30.62972184, 19.17666583,\n",
              "       19.17666583, 13.2454113 , 19.17666583, 13.2454113 , 30.62972184,\n",
              "       30.62972184, 26.29807134, 13.2454113 , 13.2454113 , 25.30700331,\n",
              "       13.2454113 , 26.29807134, 47.4832778 , 19.17666583, 26.29807134,\n",
              "       19.17666583, 13.2454113 , 19.17666583, 13.2454113 , 19.17666583,\n",
              "       19.17666583, 19.17666583, 26.29807134, 30.62972184, 26.29807134,\n",
              "       19.17666583, 30.62972184, 13.2454113 , 26.29807134, 19.17666583,\n",
              "       30.62972184, 19.17666583, 30.62972184, 26.29807134, 38.35966335,\n",
              "       19.17666583, 19.17666583, 30.62972184, 13.2454113 , 13.2454113 ,\n",
              "       47.4832778 , 19.17666583, 19.17666583, 19.17666583, 13.2454113 ,\n",
              "       19.17666583, 19.17666583, 13.2454113 , 23.50831633, 30.62972184,\n",
              "       26.29807134, 13.2454113 , 19.17666583, 19.17666583, 17.5770618 ,\n",
              "       13.2454113 , 13.2454113 , 26.29807134, 26.29807134, 30.62972184,\n",
              "       19.17666583, 23.50831633, 19.17666583, 13.2454113 , 13.2454113 ,\n",
              "       30.62972184, 26.29807134, 47.4832778 , 47.4832778 , 19.17666583,\n",
              "       30.62972184, 26.29807134, 30.62972184, 26.29807134, 26.29807134,\n",
              "       19.17666583, 13.2454113 , 26.29807134, 30.62972184, 26.29807134,\n",
              "       26.29807134, 26.29807134, 13.2454113 , 26.29807134, 26.29807134,\n",
              "       13.2454113 , 13.2454113 , 23.50831633, 26.29807134, 13.2454113 ,\n",
              "       47.4832778 , 26.29807134, 13.2454113 , 19.17666583, 13.2454113 ,\n",
              "       13.2454113 , 30.62972184, 13.2454113 , 47.4832778 , 19.17666583,\n",
              "       19.17666583, 19.17666583, 19.17666583, 47.4832778 , 13.2454113 ,\n",
              "       47.4832778 , 19.17666583, 13.2454113 , 30.62972184, 30.62972184,\n",
              "       26.29807134, 19.17666583, 38.35966335, 19.17666583, 19.17666583,\n",
              "       26.29807134, 19.17666583, 19.17666583, 26.29807134, 47.4832778 ,\n",
              "       30.62972184, 19.17666583, 13.2454113 , 13.2454113 , 13.2454113 ,\n",
              "       19.17666583, 13.2454113 , 19.17666583, 17.5770618 , 19.17666583,\n",
              "       13.2454113 , 19.17666583, 30.62972184, 13.2454113 , 13.2454113 ,\n",
              "       13.2454113 , 26.29807134, 26.29807134, 13.2454113 , 19.17666583,\n",
              "       19.17666583, 13.2454113 , 19.17666583, 13.2454113 , 19.17666583,\n",
              "       26.29807134, 19.17666583, 19.17666583, 26.29807134, 19.17666583,\n",
              "       19.17666583, 13.2454113 , 13.2454113 , 13.2454113 , 30.62972184,\n",
              "       13.2454113 , 13.2454113 , 13.2454113 , 19.17666583, 26.29807134,\n",
              "       30.62972184, 30.62972184, 30.62972184, 13.2454113 , 30.62972184,\n",
              "       19.17666583, 17.5770618 , 13.2454113 , 13.2454113 , 13.2454113 ,\n",
              "       26.29807134, 19.17666583, 47.4832778 , 19.17666583, 26.29807134,\n",
              "       26.29807134, 13.2454113 , 19.17666583, 26.29807134])"
            ]
          },
          "metadata": {},
          "execution_count": 24
        }
      ]
    },
    {
      "cell_type": "code",
      "source": [
        "r2_score(y_pred_test,y_test)"
      ],
      "metadata": {
        "colab": {
          "base_uri": "https://localhost:8080/"
        },
        "id": "Cg5mYbf66wJb",
        "outputId": "1c2728f7-a539-4d12-a5e3-97f2aeee67ed"
      },
      "execution_count": 25,
      "outputs": [
        {
          "output_type": "execute_result",
          "data": {
            "text/plain": [
              "0.7447049194861197"
            ]
          },
          "metadata": {},
          "execution_count": 25
        }
      ]
    },
    {
      "cell_type": "code",
      "source": [
        "r2_score(y_pred_train,y_train)"
      ],
      "metadata": {
        "colab": {
          "base_uri": "https://localhost:8080/"
        },
        "id": "sm2swvLp70dA",
        "outputId": "8d2863a9-c64d-4671-eda3-9b56a1303e22"
      },
      "execution_count": 26,
      "outputs": [
        {
          "output_type": "execute_result",
          "data": {
            "text/plain": [
              "0.7361331708645036"
            ]
          },
          "metadata": {},
          "execution_count": 26
        }
      ]
    },
    {
      "cell_type": "code",
      "source": [
        "from sklearn.model_selection import GridSearchCV\n",
        "Pr={'learning_rate' :[0.1,0.10,0.05],'n_estimators':[100,150,200,250]}\n",
        "tuning=GridSearchCV(estimator=GradientBoostingRegressor(),param_grid=Pr,scoring='r2')\n",
        "tuning.fit(X_train,y_train)\n",
        "tuning.best_params_,tuning.best_score_  "
      ],
      "metadata": {
        "colab": {
          "base_uri": "https://localhost:8080/"
        },
        "id": "Nx4_fyWn8Gi-",
        "outputId": "b4224c93-4a0a-4cf4-8de8-6250d186a128"
      },
      "execution_count": 34,
      "outputs": [
        {
          "output_type": "execute_result",
          "data": {
            "text/plain": [
              "({'learning_rate': 0.1, 'n_estimators': 150}, 0.8729717026742863)"
            ]
          },
          "metadata": {},
          "execution_count": 34
        }
      ]
    },
    {
      "cell_type": "code",
      "source": [
        ""
      ],
      "metadata": {
        "id": "Aa__13lA9qPN"
      },
      "execution_count": null,
      "outputs": []
    }
  ]
}